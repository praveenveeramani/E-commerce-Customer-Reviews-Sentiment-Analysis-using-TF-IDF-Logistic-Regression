{
 "cells": [
  {
   "cell_type": "code",
   "execution_count": 124,
   "id": "3631069c",
   "metadata": {},
   "outputs": [],
   "source": [
    "import pandas as pd\n",
    "from nltk.corpus import stopwords\n",
    "from nltk.stem import WordNetLemmatizer\n",
    "import string\n",
    "import re"
   ]
  },
  {
   "cell_type": "code",
   "execution_count": 125,
   "id": "9e521b1c",
   "metadata": {},
   "outputs": [],
   "source": [
    "reviews = [\n",
    "    \"As I had purchased for my mother and Yes It is a nice among all Beauty shoping App and It has a different and adequate products for their costumer.Love it and Enjoy it ....\",\n",
    "\"All the products is original\",\n",
    "\"Amazing products.\",\n",
    "\"Nice app\",\n",
    "\"Nykaa offers Excellent and genuine products of various Indian and international brands. Their service too is good. Products are well wrapped and delivery is pretty efficient. The app and the website interface is very well designed and easy to navigate. Overall having a good experience with Nykaa.\",\n",
    "\"Thank you Nykaa for sorting out all the issues. I love the app since all the products are genuine. And I love the discounts on the products. I buy each and every skin care product of my rountine from Nykaa only. its really easy to order and they deliver within two days which is really awesome.\",\n",
    "\"Amazing app\",\n",
    "\"Love this app\",\n",
    "\"it's really Amazing..\",\n",
    "\"on time delivery and products quality are good enough.\",\n",
    "\"nice\",\n",
    "\"The page gets stuck at \"\"loading bank page\"\". Not proceeding ahead. Reinstalled the app, still the same\",\n",
    "\"Hate this yr ye log kuch na kuch mis place krte h or bolte aage s n hga totly hate this thing\",\n",
    "\"This the worst app I have ever seen in this generation. When I order from that It was a Lipstick it was $656 and mascara of $456 when I do in cash on delivery it was said that cash on delivery should be above $500\",\n",
    "\"Loved it.....amazing products...... I think everyone should try it at once......\",\n",
    "\"Awesome app\",\n",
    "\"Its fast and easy to use.\",\n",
    "\"Nice n convinent app.\",\n",
    "\"I had orderd 2 product from the same brand but i got only one how many times u had chat with ur customer care centre but i am disappointed from u very bad\",\n",
    "\"I loved it 🥰🥰\",\n",
    "\"okay\",\n",
    "\"I find this site more genuine with price\",\n",
    "\"I really like the varieties which is available in Nykaa\",\n",
    "\"Very nice and beautiful ? And all products all very expensive\",\n",
    "\"app is really good... I liked it\",\n",
    "\"Love dis app..\",\n",
    "]"
   ]
  },
  {
   "cell_type": "code",
   "execution_count": 126,
   "id": "6854d177",
   "metadata": {},
   "outputs": [],
   "source": [
    "#Function for text preprocessing\n",
    "def preprocess_text(text):\n",
    "\n",
    "    text = re.sub(r'\\d+','', text) # Remove numbers\n",
    "    text = text.translate(str.maketrans('', '', string.punctuation)) # Remove punctuation\n",
    "    text = text.lower() # Convert text to lowercase\n",
    "    text = ' '.join([word for word in text.split() if word not in stopwords.words('english')]) # Remove stopwords\n",
    "    lemmatizer = WordNetLemmatizer()\n",
    "    text = ' '.join([lemmatizer.lemmatize(word) for word in text.split()]) # Lemmatization\n",
    "    return text\n",
    "\n",
    "#Apply preprocessing to each review\n",
    "preprocessed_reviews = [preprocess_text(review) for review in reviews]"
   ]
  },
  {
   "cell_type": "code",
   "execution_count": 127,
   "id": "ad9c6d65",
   "metadata": {},
   "outputs": [
    {
     "name": "stdout",
     "output_type": "stream",
     "text": [
      "         0         1         2         3         4         5         6    \\\n",
      "0   0.000000  0.301237  0.000000  0.000000  0.301237  0.144727  0.000000   \n",
      "1   0.000000  0.000000  0.000000  0.000000  0.000000  0.000000  0.000000   \n",
      "2   0.000000  0.000000  0.000000  0.824975  0.000000  0.000000  0.000000   \n",
      "3   0.000000  0.000000  0.000000  0.000000  0.000000  0.568609  0.000000   \n",
      "4   0.000000  0.000000  0.000000  0.000000  0.000000  0.090126  0.000000   \n",
      "5   0.000000  0.000000  0.000000  0.000000  0.000000  0.092299  0.000000   \n",
      "6   0.000000  0.000000  0.000000  0.859420  0.000000  0.511269  0.000000   \n",
      "7   0.000000  0.000000  0.000000  0.000000  0.000000  0.511269  0.000000   \n",
      "8   0.000000  0.000000  0.000000  0.734719  0.000000  0.000000  0.000000   \n",
      "9   0.000000  0.000000  0.000000  0.000000  0.000000  0.000000  0.000000   \n",
      "10  0.000000  0.000000  0.000000  0.000000  0.000000  0.000000  0.000000   \n",
      "11  0.000000  0.000000  0.285938  0.000000  0.000000  0.137377  0.000000   \n",
      "12  0.223607  0.000000  0.000000  0.000000  0.000000  0.000000  0.000000   \n",
      "13  0.000000  0.000000  0.000000  0.000000  0.000000  0.125620  0.000000   \n",
      "14  0.000000  0.000000  0.000000  0.000000  0.000000  0.000000  0.000000   \n",
      "15  0.000000  0.000000  0.000000  0.000000  0.000000  0.476083  0.000000   \n",
      "16  0.000000  0.000000  0.000000  0.000000  0.000000  0.000000  0.000000   \n",
      "17  0.000000  0.000000  0.000000  0.000000  0.000000  0.366982  0.000000   \n",
      "18  0.000000  0.000000  0.000000  0.000000  0.000000  0.000000  0.000000   \n",
      "19  0.000000  0.000000  0.000000  0.000000  0.000000  0.000000  0.000000   \n",
      "20  0.000000  0.000000  0.000000  0.000000  0.000000  0.000000  0.000000   \n",
      "21  0.000000  0.000000  0.000000  0.000000  0.000000  0.000000  0.000000   \n",
      "22  0.000000  0.000000  0.000000  0.000000  0.000000  0.000000  0.487472   \n",
      "23  0.000000  0.000000  0.000000  0.000000  0.000000  0.000000  0.000000   \n",
      "24  0.000000  0.000000  0.000000  0.000000  0.000000  0.307631  0.000000   \n",
      "25  0.000000  0.000000  0.000000  0.000000  0.000000  0.350115  0.000000   \n",
      "\n",
      "         7         8         9    ...       108      109      110       111  \\\n",
      "0   0.000000  0.000000  0.000000  ...  0.000000  0.00000  0.00000  0.000000   \n",
      "1   0.000000  0.000000  0.000000  ...  0.000000  0.00000  0.00000  0.000000   \n",
      "2   0.000000  0.000000  0.000000  ...  0.000000  0.00000  0.00000  0.000000   \n",
      "3   0.000000  0.000000  0.000000  ...  0.000000  0.00000  0.00000  0.000000   \n",
      "4   0.000000  0.000000  0.000000  ...  0.000000  0.18759  0.18759  0.375179   \n",
      "5   0.170492  0.000000  0.000000  ...  0.000000  0.00000  0.00000  0.000000   \n",
      "6   0.000000  0.000000  0.000000  ...  0.000000  0.00000  0.00000  0.000000   \n",
      "7   0.000000  0.000000  0.000000  ...  0.000000  0.00000  0.00000  0.000000   \n",
      "8   0.000000  0.000000  0.000000  ...  0.000000  0.00000  0.00000  0.000000   \n",
      "9   0.000000  0.000000  0.000000  ...  0.000000  0.00000  0.00000  0.000000   \n",
      "10  0.000000  0.000000  0.000000  ...  0.000000  0.00000  0.00000  0.000000   \n",
      "11  0.000000  0.000000  0.285938  ...  0.000000  0.00000  0.00000  0.000000   \n",
      "12  0.000000  0.000000  0.000000  ...  0.000000  0.00000  0.00000  0.000000   \n",
      "13  0.000000  0.000000  0.000000  ...  0.000000  0.00000  0.00000  0.000000   \n",
      "14  0.000000  0.000000  0.000000  ...  0.000000  0.00000  0.00000  0.000000   \n",
      "15  0.879401  0.000000  0.000000  ...  0.000000  0.00000  0.00000  0.000000   \n",
      "16  0.000000  0.000000  0.000000  ...  0.000000  0.00000  0.00000  0.000000   \n",
      "17  0.000000  0.000000  0.000000  ...  0.000000  0.00000  0.00000  0.000000   \n",
      "18  0.000000  0.280952  0.000000  ...  0.000000  0.00000  0.00000  0.000000   \n",
      "19  0.000000  0.000000  0.000000  ...  0.000000  0.00000  0.00000  0.000000   \n",
      "20  0.000000  0.000000  0.000000  ...  0.000000  0.00000  0.00000  0.000000   \n",
      "21  0.000000  0.000000  0.000000  ...  0.000000  0.00000  0.00000  0.000000   \n",
      "22  0.000000  0.000000  0.000000  ...  0.487472  0.00000  0.00000  0.000000   \n",
      "23  0.000000  0.000000  0.000000  ...  0.000000  0.00000  0.00000  0.000000   \n",
      "24  0.000000  0.000000  0.000000  ...  0.000000  0.00000  0.00000  0.000000   \n",
      "25  0.000000  0.000000  0.000000  ...  0.000000  0.00000  0.00000  0.000000   \n",
      "\n",
      "         112       113      114       115       116       117  \n",
      "0   0.000000  0.000000  0.00000  0.000000  0.301237  0.000000  \n",
      "1   0.000000  0.000000  0.00000  0.000000  0.000000  0.000000  \n",
      "2   0.000000  0.000000  0.00000  0.000000  0.000000  0.000000  \n",
      "3   0.000000  0.000000  0.00000  0.000000  0.000000  0.000000  \n",
      "4   0.000000  0.000000  0.18759  0.000000  0.000000  0.000000  \n",
      "5   0.192113  0.000000  0.00000  0.000000  0.000000  0.000000  \n",
      "6   0.000000  0.000000  0.00000  0.000000  0.000000  0.000000  \n",
      "7   0.000000  0.000000  0.00000  0.000000  0.000000  0.000000  \n",
      "8   0.000000  0.000000  0.00000  0.000000  0.000000  0.000000  \n",
      "9   0.000000  0.000000  0.00000  0.000000  0.000000  0.000000  \n",
      "10  0.000000  0.000000  0.00000  0.000000  0.000000  0.000000  \n",
      "11  0.000000  0.000000  0.00000  0.000000  0.000000  0.000000  \n",
      "12  0.000000  0.000000  0.00000  0.223607  0.000000  0.223607  \n",
      "13  0.000000  0.261468  0.00000  0.000000  0.000000  0.000000  \n",
      "14  0.000000  0.000000  0.00000  0.000000  0.000000  0.000000  \n",
      "15  0.000000  0.000000  0.00000  0.000000  0.000000  0.000000  \n",
      "16  0.000000  0.000000  0.00000  0.000000  0.000000  0.000000  \n",
      "17  0.000000  0.000000  0.00000  0.000000  0.000000  0.000000  \n",
      "18  0.000000  0.000000  0.00000  0.000000  0.000000  0.000000  \n",
      "19  0.000000  0.000000  0.00000  0.000000  0.000000  0.000000  \n",
      "20  0.000000  0.000000  0.00000  0.000000  0.000000  0.000000  \n",
      "21  0.000000  0.000000  0.00000  0.000000  0.000000  0.000000  \n",
      "22  0.000000  0.000000  0.00000  0.000000  0.000000  0.000000  \n",
      "23  0.000000  0.000000  0.00000  0.000000  0.000000  0.000000  \n",
      "24  0.000000  0.000000  0.00000  0.000000  0.000000  0.000000  \n",
      "25  0.000000  0.000000  0.00000  0.000000  0.000000  0.000000  \n",
      "\n",
      "[26 rows x 118 columns]\n"
     ]
    }
   ],
   "source": [
    "from sklearn.feature_extraction.text import TfidfVectorizer\n",
    "\n",
    "#Initialize TF-IDF vectorizer\n",
    "tfidf_vectorizer = TfidfVectorizer()\n",
    "\n",
    "#Fit-transform the preprocessed reviews\n",
    "tfidf_matrix = tfidf_vectorizer.fit_transform(preprocessed_reviews)\n",
    "\n",
    "# Convert TF-IDF matrix to DataFrame for visualization\n",
    "tfidf_df = pd.DataFrame(tfidf_matrix.toarray())\n",
    "\n",
    "\n",
    "print(tfidf_df)"
   ]
  },
  {
   "cell_type": "code",
   "execution_count": 128,
   "id": "16b57db8",
   "metadata": {},
   "outputs": [],
   "source": [
    "from sklearn.model_selection import train_test_split\n",
    "from sklearn.linear_model import LogisticRegression\n",
    "from sklearn.metrics import accuracy_score\n",
    "\n",
    "# Define the sentiment labels and their corresponding numerical values\n",
    "sentiment_mapping = {\n",
    "    \"Positive\": 1,\n",
    "    \"Neutral\": 0,\n",
    "    \"Negative\": -1\n",
    "}\n",
    "\n",
    "# Assign numerical labels to each review based on the sentiment\n",
    "y_train = [1, 1, 0, 1, 1, 0, 1, 1, 1, 1, 1, -1, -1, -1, 1, 1, 0, 0, -1, 1, 0, 1, 0, 1, 1, 1]\n",
    "\n",
    "# Split data into training and testing sets\n",
    "X_train, X_test, y_train, y_test = train_test_split(tfidf_df, y_train, test_size=0.15, random_state=42)\n",
    "\n",
    "# Initialize and train logistic regression model\n",
    "logistic_regression = LogisticRegression()\n",
    "logistic_regression.fit(X_train, y_train)\n",
    "\n",
    "# Predict sentiment labels for test data\n",
    "y_pred = logistic_regression.predict(X_test)"
   ]
  },
  {
   "cell_type": "code",
   "execution_count": 129,
   "id": "67785932",
   "metadata": {},
   "outputs": [
    {
     "name": "stdout",
     "output_type": "stream",
     "text": [
      "22\n",
      "4\n",
      "[1, 0, 1, 1]\n",
      "[1 1 1 1]\n"
     ]
    }
   ],
   "source": [
    "#Ensure that the data splitting process is correct\n",
    "print(len(X_train))\n",
    "print(len(X_test))\n",
    "\n",
    "print(y_test)\n",
    "print(y_pred)"
   ]
  },
  {
   "cell_type": "code",
   "execution_count": 130,
   "id": "5f5956d8",
   "metadata": {},
   "outputs": [
    {
     "name": "stdout",
     "output_type": "stream",
     "text": [
      "Accuracy: 0.75\n"
     ]
    }
   ],
   "source": [
    "#Evaluate model performance\n",
    "accuracy = accuracy_score(y_test, y_pred)\n",
    "print(\"Accuracy:\", accuracy)"
   ]
  }
 ],
 "metadata": {
  "kernelspec": {
   "display_name": "Python 3",
   "language": "python",
   "name": "python3"
  },
  "language_info": {
   "codemirror_mode": {
    "name": "ipython",
    "version": 3
   },
   "file_extension": ".py",
   "mimetype": "text/x-python",
   "name": "python",
   "nbconvert_exporter": "python",
   "pygments_lexer": "ipython3",
   "version": "3.12.4"
  }
 },
 "nbformat": 4,
 "nbformat_minor": 5
}
